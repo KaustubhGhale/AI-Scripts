{
  "nbformat": 4,
  "nbformat_minor": 0,
  "metadata": {
    "colab": {
      "provenance": []
    },
    "kernelspec": {
      "name": "python3",
      "display_name": "Python 3"
    },
    "language_info": {
      "name": "python"
    }
  },
  "cells": [
    {
      "cell_type": "markdown",
      "source": [
        "#Heuristic Search Techniques"
      ],
      "metadata": {
        "id": "GXCMF7Sm7EZo"
      }
    },
    {
      "cell_type": "markdown",
      "source": [
        "### ✅ 1. Water Jug Problem using Depth First Search"
      ],
      "metadata": {
        "id": "ESigQON77b6z"
      }
    },
    {
      "cell_type": "code",
      "source": [
        "def dfs(jug1, jug2, goal):\n",
        "    stack, visited = [(0, 0)], set()\n",
        "\n",
        "    while stack:\n",
        "        a, b = stack.pop()\n",
        "        if (a, b) in visited: continue\n",
        "        visited.add((a, b))\n",
        "        print(a, b)\n",
        "        if a == goal or b == goal: return True\n",
        "\n",
        "        stack += [\n",
        "            (jug1, b), (a, jug2), (0, b), (a, 0),\n",
        "            (min(jug1, a + b), b - (min(jug1, a + b) - a)),\n",
        "            (a - (min(jug2, a + b) - b), min(jug2, a + b))\n",
        "        ]\n",
        "    return False\n",
        "\n",
        "dfs(4, 3, 2)"
      ],
      "metadata": {
        "colab": {
          "base_uri": "https://localhost:8080/"
        },
        "id": "FxK3Eshj7bGn",
        "outputId": "aaf7bcda-f2cd-4041-eca0-69763a9fecbb"
      },
      "execution_count": 6,
      "outputs": [
        {
          "output_type": "stream",
          "name": "stdout",
          "text": [
            "0 0\n",
            "0 3\n",
            "3 0\n",
            "3 3\n",
            "4 2\n"
          ]
        },
        {
          "output_type": "execute_result",
          "data": {
            "text/plain": [
              "True"
            ]
          },
          "metadata": {},
          "execution_count": 6
        }
      ]
    },
    {
      "cell_type": "markdown",
      "source": [
        "### ✅ 2. TSP – Branch and Bound"
      ],
      "metadata": {
        "id": "shDAjpigRvTI"
      }
    },
    {
      "cell_type": "code",
      "source": [
        "from itertools import permutations\n",
        "\n",
        "def tsp_brute(cost):\n",
        "    n, best = len(cost), float('inf')\n",
        "    for path in permutations(range(n)):\n",
        "        total = sum(cost[path[i]][path[(i+1)%n]] for i in range(n))\n",
        "        best = min(best, total)\n",
        "    print(\"Min Cost:\", best)\n",
        "\n",
        "tsp_brute([[0,10,15,20],[10,0,35,25],[15,35,0,30],[20,25,30,0]])"
      ],
      "metadata": {
        "colab": {
          "base_uri": "https://localhost:8080/"
        },
        "id": "O8flWGL7Ryx6",
        "outputId": "6ec1e2b9-7ba1-4b5e-db37-b9bae534b819"
      },
      "execution_count": 7,
      "outputs": [
        {
          "output_type": "stream",
          "name": "stdout",
          "text": [
            "Min Cost: 80\n"
          ]
        }
      ]
    },
    {
      "cell_type": "markdown",
      "source": [
        "### ✅ 3. TSP – Nearest Neighbour (Simplified)"
      ],
      "metadata": {
        "id": "sRklfKQ1R_Iw"
      }
    },
    {
      "cell_type": "code",
      "source": [
        "def tsp_nn(graph, start=0):\n",
        "    n, visited, path, cost = len(graph), [False]*len(graph), [start], 0\n",
        "    visited[start] = True\n",
        "    for _ in range(n-1):\n",
        "        cur = path[-1]\n",
        "        next_city = min([(i, graph[cur][i]) for i in range(n) if not visited[i]], key=lambda x:x[1])\n",
        "        path.append(next_city[0])\n",
        "        visited[next_city[0]] = True\n",
        "        cost += next_city[1]\n",
        "    cost += graph[path[-1]][start]\n",
        "    print(\"Path:\", path + [start], \"| Cost:\", cost)\n",
        "\n",
        "tsp_nn([[0,10,15,20],[10,0,35,25],[15,35,0,30],[20,25,30,0]])"
      ],
      "metadata": {
        "colab": {
          "base_uri": "https://localhost:8080/"
        },
        "id": "NU95WwNpSCLz",
        "outputId": "a1c382e7-ceaf-4cc1-8c31-f790deb4a197"
      },
      "execution_count": 8,
      "outputs": [
        {
          "output_type": "stream",
          "name": "stdout",
          "text": [
            "Path: [0, 1, 3, 2, 0] | Cost: 80\n"
          ]
        }
      ]
    },
    {
      "cell_type": "markdown",
      "source": [
        "### ✅ 4. Hill Climbing – Simple Version"
      ],
      "metadata": {
        "id": "svQVd4S0SHQs"
      }
    },
    {
      "cell_type": "code",
      "source": [
        "def hill_climb(f, start):\n",
        "    x = start\n",
        "    while f(x+1) > f(x): x += 1\n",
        "    print(\"Best x:\", x, \"| f(x):\", f(x))\n",
        "\n",
        "hill_climb(lambda x: -x*x + 5, 0)"
      ],
      "metadata": {
        "colab": {
          "base_uri": "https://localhost:8080/"
        },
        "id": "Agrdu9HvSI3O",
        "outputId": "addcb179-96d1-4749-b726-cea96fe669b5"
      },
      "execution_count": 9,
      "outputs": [
        {
          "output_type": "stream",
          "name": "stdout",
          "text": [
            "Best x: 0 | f(x): 5\n"
          ]
        }
      ]
    },
    {
      "cell_type": "markdown",
      "source": [
        "### ✅ 5. Best First Search – Simplified"
      ],
      "metadata": {
        "id": "KN6EKSDPSMCx"
      }
    },
    {
      "cell_type": "code",
      "source": [
        "import heapq\n",
        "\n",
        "def best_first(graph, start, goal, h):\n",
        "    q, visited = [(h[start], start)], set()\n",
        "    while q:\n",
        "        _, node = heapq.heappop(q)\n",
        "        print(\"Visiting:\", node)\n",
        "        if node == goal: return\n",
        "        visited.add(node)\n",
        "        for n in graph[node]:\n",
        "            if n not in visited:\n",
        "                heapq.heappush(q, (h[n], n))\n",
        "\n",
        "g = {'A':['B','C'],'B':['D','E'],'C':['F'],'D':[],'E':['F'],'F':[]}\n",
        "h = {'A':5,'B':4,'C':3,'D':2,'E':1,'F':0}\n",
        "best_first(g, 'A', 'F', h)"
      ],
      "metadata": {
        "colab": {
          "base_uri": "https://localhost:8080/"
        },
        "id": "M78vyAd2SO3D",
        "outputId": "bb9f0e6c-17e7-4264-d5cb-6571a1bbba52"
      },
      "execution_count": 10,
      "outputs": [
        {
          "output_type": "stream",
          "name": "stdout",
          "text": [
            "Visiting: A\n",
            "Visiting: C\n",
            "Visiting: F\n"
          ]
        }
      ]
    },
    {
      "cell_type": "markdown",
      "source": [
        "### ✅ 6. A* Algorithm – Pathfinding with Intelligence"
      ],
      "metadata": {
        "id": "eoWtoz5dVsB0"
      }
    },
    {
      "cell_type": "code",
      "source": [
        "from queue import PriorityQueue\n",
        "\n",
        "def a_star(start, goal, graph, h):\n",
        "    open_set = PriorityQueue()\n",
        "    open_set.put((0, start))\n",
        "    came_from = {}\n",
        "    g = {node: float('inf') for node in graph}\n",
        "    g[start] = 0\n",
        "\n",
        "    while not open_set.empty():\n",
        "        _, current = open_set.get()\n",
        "\n",
        "        if current == goal:\n",
        "            path = []\n",
        "            while current in came_from:\n",
        "                path.append(current)\n",
        "                current = came_from[current]\n",
        "            path.append(start)\n",
        "            return path[::-1]\n",
        "\n",
        "        for neighbor, cost in graph[current]:\n",
        "            tentative_g = g[current] + cost\n",
        "            if tentative_g < g[neighbor]:\n",
        "                came_from[neighbor] = current\n",
        "                g[neighbor] = tentative_g\n",
        "                f = tentative_g + h[neighbor]\n",
        "                open_set.put((f, neighbor))\n",
        "\n",
        "    return None\n",
        "\n",
        "graph = {\n",
        "    'A': [('B', 1), ('C', 4)],\n",
        "    'B': [('D', 5), ('E', 12)],\n",
        "    'C': [('F', 2)],\n",
        "    'D': [('G', 3)],\n",
        "    'E': [('G', 1)],\n",
        "    'F': [('G', 5)],\n",
        "    'G': []\n",
        "}\n",
        "\n",
        "h = {  # Heuristics\n",
        "    'A': 7, 'B': 6, 'C': 2, 'D': 1,\n",
        "    'E': 5, 'F': 3, 'G': 0\n",
        "}\n",
        "\n",
        "path = a_star('A', 'G', graph, h)\n",
        "print(\"Shortest path:\", path)\n"
      ],
      "metadata": {
        "colab": {
          "base_uri": "https://localhost:8080/"
        },
        "id": "bDHugxQqVywp",
        "outputId": "c7692c77-d102-4f24-f006-18fee17c0100"
      },
      "execution_count": 25,
      "outputs": [
        {
          "output_type": "stream",
          "name": "stdout",
          "text": [
            "Shortest path: ['A', 'B', 'D', 'G']\n"
          ]
        }
      ]
    },
    {
      "cell_type": "markdown",
      "source": [
        "### ✅ 7. AO* Algorithm – AND/OR Graph Search"
      ],
      "metadata": {
        "id": "o5yrcj6NWQSZ"
      }
    },
    {
      "cell_type": "code",
      "source": [
        "graph = {\n",
        "    'A': [('B', 'C')],\n",
        "    'B': [('D',)],\n",
        "    'C': [('E', 'F')],\n",
        "    'D': [],\n",
        "    'E': [],\n",
        "    'F': []\n",
        "}\n",
        "\n",
        "heuristic = {'A': 10, 'B': 4, 'C': 2, 'D': 0, 'E': 0, 'F': 0}\n",
        "solved = {}\n",
        "\n",
        "def ao_star(node):\n",
        "    if node in solved:\n",
        "        return heuristic[node]\n",
        "\n",
        "    children = graph.get(node, [])\n",
        "    if not children:\n",
        "        solved[node] = True\n",
        "        return heuristic[node]\n",
        "\n",
        "    min_cost = float('inf')\n",
        "    best = None\n",
        "\n",
        "    for group in children:\n",
        "        cost = sum(ao_star(child) for child in group)\n",
        "        if cost < min_cost:\n",
        "            min_cost = cost\n",
        "            best = group\n",
        "\n",
        "    heuristic[node] = min_cost\n",
        "    solved[node] = True\n",
        "    print(f\"{node} -> {best} [Cost: {min_cost}]\")\n",
        "    return min_cost\n",
        "\n",
        "ao_star('A')\n"
      ],
      "metadata": {
        "colab": {
          "base_uri": "https://localhost:8080/"
        },
        "id": "xKuvS5AkWVqY",
        "outputId": "60513ecc-09e2-46f4-df2c-4e8f49d82014"
      },
      "execution_count": 26,
      "outputs": [
        {
          "output_type": "stream",
          "name": "stdout",
          "text": [
            "B -> ('D',) [Cost: 0]\n",
            "C -> ('E', 'F') [Cost: 0]\n",
            "A -> ('B', 'C') [Cost: 0]\n"
          ]
        },
        {
          "output_type": "execute_result",
          "data": {
            "text/plain": [
              "0"
            ]
          },
          "metadata": {},
          "execution_count": 26
        }
      ]
    },
    {
      "cell_type": "markdown",
      "source": [
        "# Constraint Satisfaction Problem"
      ],
      "metadata": {
        "id": "B4hwkGxySf3U"
      }
    },
    {
      "cell_type": "markdown",
      "source": [
        "### ✅ 1. Tic-Tac-Toe using CSP (Constraint Satisfaction Problem)"
      ],
      "metadata": {
        "id": "uxOLtfBrSm7t"
      }
    },
    {
      "cell_type": "code",
      "source": [
        "def check_win(board, player):\n",
        "    wins = [(0,1,2),(3,4,5),(6,7,8), (0,3,6),(1,4,7),(2,5,8), (0,4,8),(2,4,6)]\n",
        "    return any(all(board[i]==player for i in line) for line in wins)\n",
        "\n",
        "def csp_tictactoe():\n",
        "    board = [' '] * 9\n",
        "    for turn in range(9):\n",
        "        player = 'X' if turn % 2 == 0 else 'O'\n",
        "        for i in range(9):\n",
        "            if board[i] == ' ':\n",
        "                board[i] = player\n",
        "                if check_win(board, player):\n",
        "                    print(f\"{player} wins!\\n{board}\")\n",
        "                    return\n",
        "                break\n",
        "    print(\"Draw:\", board)\n",
        "\n",
        "csp_tictactoe()"
      ],
      "metadata": {
        "colab": {
          "base_uri": "https://localhost:8080/"
        },
        "id": "Fh4N-faQSqB4",
        "outputId": "6e20c066-6e54-499e-a070-358c99e6a708"
      },
      "execution_count": 12,
      "outputs": [
        {
          "output_type": "stream",
          "name": "stdout",
          "text": [
            "X wins!\n",
            "['X', 'O', 'X', 'O', 'X', 'O', 'X', ' ', ' ']\n"
          ]
        }
      ]
    },
    {
      "cell_type": "markdown",
      "source": [
        "### ✅ 2. Sudoku using CSP"
      ],
      "metadata": {
        "id": "jAcG6_nhSx0b"
      }
    },
    {
      "cell_type": "code",
      "source": [
        "def is_valid(board, row, col, num):\n",
        "    for i in range(9):\n",
        "        if board[row][i] == num or board[i][col] == num:\n",
        "            return False\n",
        "    box = 3 * (row//3), 3 * (col//3)\n",
        "    for i in range(box[0], box[0]+3):\n",
        "        for j in range(box[1], box[1]+3):\n",
        "            if board[i][j] == num:\n",
        "                return False\n",
        "    return True\n",
        "\n",
        "def solve_sudoku(board):\n",
        "    for i in range(9):\n",
        "        for j in range(9):\n",
        "            if board[i][j] == 0:\n",
        "                for num in range(1, 10):\n",
        "                    if is_valid(board, i, j, num):\n",
        "                        board[i][j] = num\n",
        "                        if solve_sudoku(board): return True\n",
        "                        board[i][j] = 0\n",
        "                return False\n",
        "    return True\n",
        "\n",
        "sudoku = [\n",
        "    [5,3,0, 0,7,0, 0,0,0],\n",
        "    [6,0,0, 1,9,5, 0,0,0],\n",
        "    [0,9,8, 0,0,0, 0,6,0],\n",
        "    [8,0,0, 0,6,0, 0,0,3],\n",
        "    [4,0,0, 8,0,3, 0,0,1],\n",
        "    [7,0,0, 0,2,0, 0,0,6],\n",
        "    [0,6,0, 0,0,0, 2,8,0],\n",
        "    [0,0,0, 4,1,9, 0,0,5],\n",
        "    [0,0,0, 0,8,0, 0,7,9],\n",
        "]\n",
        "solve_sudoku(sudoku)\n",
        "for row in sudoku: print(row)"
      ],
      "metadata": {
        "colab": {
          "base_uri": "https://localhost:8080/"
        },
        "id": "4CE9vYAZS0oL",
        "outputId": "f408a5ca-2409-4a66-8892-a62ac8d4d5ca"
      },
      "execution_count": 13,
      "outputs": [
        {
          "output_type": "stream",
          "name": "stdout",
          "text": [
            "[5, 3, 4, 6, 7, 8, 9, 1, 2]\n",
            "[6, 7, 2, 1, 9, 5, 3, 4, 8]\n",
            "[1, 9, 8, 3, 4, 2, 5, 6, 7]\n",
            "[8, 5, 9, 7, 6, 1, 4, 2, 3]\n",
            "[4, 2, 6, 8, 5, 3, 7, 9, 1]\n",
            "[7, 1, 3, 9, 2, 4, 8, 5, 6]\n",
            "[9, 6, 1, 5, 3, 7, 2, 8, 4]\n",
            "[2, 8, 7, 4, 1, 9, 6, 3, 5]\n",
            "[3, 4, 5, 2, 8, 6, 1, 7, 9]\n"
          ]
        }
      ]
    },
    {
      "cell_type": "markdown",
      "source": [
        "### ✅ 3. Tic-Tac-Toe using CAP (Constraint and Action Propagation)"
      ],
      "metadata": {
        "id": "dkm4iUQzS5x1"
      }
    },
    {
      "cell_type": "code",
      "source": [
        "def cap_tictactoe():\n",
        "    board = [' '] * 9\n",
        "    rules = lambda turn: 'X' if turn % 2 == 0 else 'O'\n",
        "\n",
        "    for turn in range(9):\n",
        "        player = rules(turn)\n",
        "        for i in range(9):\n",
        "            if board[i] == ' ':\n",
        "                board[i] = player\n",
        "                break\n",
        "    print(\"Final board:\", board)\n",
        "\n",
        "cap_tictactoe()"
      ],
      "metadata": {
        "colab": {
          "base_uri": "https://localhost:8080/"
        },
        "id": "WKNpCxwbS7Gg",
        "outputId": "b3eb3136-6f7d-4bb9-d6e7-03d8bdd3c9a4"
      },
      "execution_count": 14,
      "outputs": [
        {
          "output_type": "stream",
          "name": "stdout",
          "text": [
            "Final board: ['X', 'O', 'X', 'O', 'X', 'O', 'X', 'O', 'X']\n"
          ]
        }
      ]
    },
    {
      "cell_type": "markdown",
      "source": [
        "### ✅ 4. Sudoku using CAP (Simplified Logic Propagation)"
      ],
      "metadata": {
        "id": "mSoGQ4PYS-5N"
      }
    },
    {
      "cell_type": "code",
      "source": [
        "def cap_sudoku(board):\n",
        "    possibilities = [[[1,2,3,4,5,6,7,8,9] for _ in range(9)] for _ in range(9)]\n",
        "\n",
        "    def eliminate():\n",
        "        for i in range(9):\n",
        "            for j in range(9):\n",
        "                if board[i][j]:\n",
        "                    val = board[i][j]\n",
        "                    for k in range(9):\n",
        "                        if val in possibilities[i][k]: possibilities[i][k].remove(val)\n",
        "                        if val in possibilities[k][j]: possibilities[k][j].remove(val)\n",
        "\n",
        "    eliminate()\n",
        "    for i in range(9):\n",
        "        for j in range(9):\n",
        "            if board[i][j] == 0 and len(possibilities[i][j]) == 1:\n",
        "                board[i][j] = possibilities[i][j][0]\n",
        "    for row in board: print(row)\n",
        "\n",
        "board = [\n",
        "    [5,3,0,0,7,0,0,0,0],\n",
        "    [6,0,0,1,9,5,0,0,0],\n",
        "    [0,9,8,0,0,0,0,6,0],\n",
        "    [8,0,0,0,6,0,0,0,3],\n",
        "    [4,0,0,8,0,3,0,0,1],\n",
        "    [7,0,0,0,2,0,0,0,6],\n",
        "    [0,6,0,0,0,0,2,8,0],\n",
        "    [0,0,0,4,1,9,0,0,5],\n",
        "    [0,0,0,0,8,0,0,7,9],\n",
        "]\n",
        "\n",
        "cap_sudoku(board)"
      ],
      "metadata": {
        "colab": {
          "base_uri": "https://localhost:8080/"
        },
        "id": "5NOCF32lTAa6",
        "outputId": "d09a8f1d-6922-4017-fc52-adfc8027c09d"
      },
      "execution_count": 15,
      "outputs": [
        {
          "output_type": "stream",
          "name": "stdout",
          "text": [
            "[5, 3, 0, 0, 7, 0, 0, 0, 0]\n",
            "[6, 0, 0, 1, 9, 5, 0, 0, 0]\n",
            "[0, 9, 8, 0, 0, 0, 0, 6, 0]\n",
            "[8, 0, 0, 0, 6, 0, 0, 0, 3]\n",
            "[4, 0, 0, 8, 5, 3, 0, 0, 1]\n",
            "[7, 0, 0, 0, 2, 0, 0, 0, 6]\n",
            "[0, 6, 0, 0, 0, 0, 2, 8, 0]\n",
            "[0, 0, 0, 4, 1, 9, 0, 0, 5]\n",
            "[0, 0, 0, 0, 8, 0, 0, 7, 9]\n"
          ]
        }
      ]
    },
    {
      "cell_type": "markdown",
      "source": [
        "# Alpha-Beta Pruning (Simplified MiniMax with Pruning)"
      ],
      "metadata": {
        "id": "Q-wNrVxyTUL_"
      }
    },
    {
      "cell_type": "code",
      "source": [
        "def alphabeta(depth, nodeIndex, isMax, values, alpha, beta):\n",
        "    if depth == 3:\n",
        "        return values[nodeIndex]\n",
        "\n",
        "    if isMax:\n",
        "        best = float('-inf')\n",
        "        for i in range(2):\n",
        "            val = alphabeta(depth+1, nodeIndex*2+i, False, values, alpha, beta)\n",
        "            best = max(best, val)\n",
        "            alpha = max(alpha, best)\n",
        "            if beta <= alpha:\n",
        "                break  # Beta Cut-off\n",
        "        return best\n",
        "    else:\n",
        "        best = float('inf')\n",
        "        for i in range(2):\n",
        "            val = alphabeta(depth+1, nodeIndex*2+i, True, values, alpha, beta)\n",
        "            best = min(best, val)\n",
        "            beta = min(beta, best)\n",
        "            if beta <= alpha:\n",
        "                break  # Alpha Cut-off\n",
        "        return best\n",
        "\n",
        "# Simulated tree values (leaf nodes at depth 3)\n",
        "values = [3, 5, 6, 9, 1, 2, 0, -1]\n",
        "print(\"Optimal value:\", alphabeta(0, 0, True, values, float('-inf'), float('inf')))"
      ],
      "metadata": {
        "colab": {
          "base_uri": "https://localhost:8080/"
        },
        "id": "TkZgXUBUTV-x",
        "outputId": "c4d80dd9-51ed-46e6-ffcd-b6461bd8d315"
      },
      "execution_count": 16,
      "outputs": [
        {
          "output_type": "stream",
          "name": "stdout",
          "text": [
            "Optimal value: 5\n"
          ]
        }
      ]
    },
    {
      "cell_type": "code",
      "source": [
        "         MAX\n",
        "        /    \\\n",
        "      MIN    MIN\n",
        "     /  \\    /  \\\n",
        "   MAX MAX  MAX MAX\n",
        "   / \\  / \\  / \\  / \\\n",
        "  3  5 6  9 1 2 0  -1\n"
      ],
      "metadata": {
        "id": "co5Gkl8CTb3T"
      },
      "execution_count": null,
      "outputs": []
    },
    {
      "cell_type": "markdown",
      "source": [
        "# 8 Puzzle Problem using A* Search (Shortest Path Finder)"
      ],
      "metadata": {
        "id": "HU5cpRq7TlHs"
      }
    },
    {
      "cell_type": "code",
      "source": [
        "import heapq\n",
        "\n",
        "goal = [[1,2,3],[4,5,6],[7,8,0]]\n",
        "\n",
        "def h(state):  # Heuristic: Number of misplaced tiles\n",
        "    return sum(state[i][j] != goal[i][j] and state[i][j] != 0 for i in range(3) for j in range(3))\n",
        "\n",
        "def flatten(state): return tuple(num for row in state for num in row)\n",
        "\n",
        "def get_moves(x, y):\n",
        "    return [(x+dx, y+dy) for dx,dy in [(-1,0),(1,0),(0,-1),(0,1)] if 0 <= x+dx < 3 and 0 <= y+dy < 3]\n",
        "\n",
        "def a_star(start):\n",
        "    open_set = []\n",
        "    heapq.heappush(open_set, (h(start), 0, start))\n",
        "    visited = set()\n",
        "\n",
        "    while open_set:\n",
        "        _, cost, state = heapq.heappop(open_set)\n",
        "        if state == goal:\n",
        "            print(\"Solved with cost:\", cost)\n",
        "            for row in state: print(row)\n",
        "            return\n",
        "\n",
        "        visited.add(flatten(state))\n",
        "        x, y = next((i,j) for i in range(3) for j in range(3) if state[i][j] == 0)\n",
        "\n",
        "        for nx, ny in get_moves(x, y):\n",
        "            new_state = [row[:] for row in state]\n",
        "            new_state[x][y], new_state[nx][ny] = new_state[nx][ny], new_state[x][y]\n",
        "\n",
        "            if flatten(new_state) not in visited:\n",
        "                heapq.heappush(open_set, (cost + 1 + h(new_state), cost + 1, new_state))\n",
        "\n",
        "start_state = [\n",
        "    [1, 2, 3],\n",
        "    [4, 0, 6],\n",
        "    [7, 5, 8]\n",
        "]\n",
        "\n",
        "a_star(start_state)\n"
      ],
      "metadata": {
        "colab": {
          "base_uri": "https://localhost:8080/"
        },
        "id": "Jhwww8H3TvLF",
        "outputId": "f619f560-9c2c-4421-bbd3-e9b3ae998fd7"
      },
      "execution_count": 17,
      "outputs": [
        {
          "output_type": "stream",
          "name": "stdout",
          "text": [
            "Solved with cost: 2\n",
            "[1, 2, 3]\n",
            "[4, 5, 6]\n",
            "[7, 8, 0]\n"
          ]
        }
      ]
    },
    {
      "cell_type": "markdown",
      "source": [
        "# 8 Queen Problem (Backtracking)"
      ],
      "metadata": {
        "id": "ZYIrZS-TUggj"
      }
    },
    {
      "cell_type": "code",
      "source": [
        "def is_safe(board, row, col):\n",
        "    for i in range(row):\n",
        "        if board[i] == col or \\\n",
        "           abs(board[i] - col) == abs(i - row):  # diagonal check\n",
        "            return False\n",
        "    return True\n",
        "\n",
        "def solve_queens(row, board, solutions):\n",
        "    if row == 8:\n",
        "        solutions.append(board[:])\n",
        "        return\n",
        "    for col in range(8):\n",
        "        if is_safe(board, row, col):\n",
        "            board[row] = col\n",
        "            solve_queens(row + 1, board, solutions)\n",
        "\n",
        "def print_board(board):\n",
        "    for i in board:\n",
        "        print('. ' * i + 'Q ' + '. ' * (7 - i))\n",
        "    print('\\n' + '='*20 + '\\n')\n",
        "\n",
        "solutions = []\n",
        "solve_queens(0, [0]*8, solutions)\n",
        "print(f\"Total solutions: {len(solutions)}\")\n",
        "print_board(solutions[0])  # Print one solution\n"
      ],
      "metadata": {
        "colab": {
          "base_uri": "https://localhost:8080/"
        },
        "id": "ePty4Ru1Uiu8",
        "outputId": "b50c69af-09de-4097-f42a-541f7978c2c6"
      },
      "execution_count": 18,
      "outputs": [
        {
          "output_type": "stream",
          "name": "stdout",
          "text": [
            "Total solutions: 92\n",
            "Q . . . . . . . \n",
            ". . . . Q . . . \n",
            ". . . . . . . Q \n",
            ". . . . . Q . . \n",
            ". . Q . . . . . \n",
            ". . . . . . Q . \n",
            ". Q . . . . . . \n",
            ". . . Q . . . . \n",
            "\n",
            "====================\n",
            "\n"
          ]
        }
      ]
    },
    {
      "cell_type": "markdown",
      "source": [
        "# Genetic Algorithm"
      ],
      "metadata": {
        "id": "qfSwipwrUvSD"
      }
    },
    {
      "cell_type": "markdown",
      "source": [
        "### ✅ Genetic Algorithm – Simplified Version"
      ],
      "metadata": {
        "id": "79zzl42uUyhZ"
      }
    },
    {
      "cell_type": "code",
      "source": [
        "import random\n",
        "\n",
        "# Convert binary string to integer\n",
        "def binary_to_int(b):\n",
        "    return int(b, 2)\n",
        "\n",
        "# Fitness function: f(x) = x^2\n",
        "def fitness(b):\n",
        "    x = binary_to_int(b)\n",
        "    return x * x\n",
        "\n",
        "# Selection: pick 2 best from population\n",
        "def select(pop):\n",
        "    return sorted(pop, key=fitness, reverse=True)[:2]\n",
        "\n",
        "# Crossover: combine parents\n",
        "def crossover(p1, p2):\n",
        "    point = random.randint(1, len(p1)-2)\n",
        "    return p1[:point] + p2[point:], p2[:point] + p1[point:]\n",
        "\n",
        "# Mutation: randomly flip one bit\n",
        "def mutate(b):\n",
        "    i = random.randint(0, len(b)-1)\n",
        "    b = list(b)\n",
        "    b[i] = '1' if b[i] == '0' else '0'\n",
        "    return ''.join(b)\n",
        "\n",
        "# GA main loop\n",
        "def genetic_algorithm():\n",
        "    population = [''.join(random.choice('01') for _ in range(5)) for _ in range(4)]\n",
        "\n",
        "    for gen in range(10):\n",
        "        print(f\"\\nGeneration {gen}:\", population)\n",
        "        selected = select(population)\n",
        "        print(\"Selected:\", selected)\n",
        "        child1, child2 = crossover(*selected)\n",
        "        child1, child2 = mutate(child1), mutate(child2)\n",
        "        population = selected + [child1, child2]\n",
        "\n",
        "    best = max(population, key=fitness)\n",
        "    print(\"\\nBest solution:\", best, \"→ x =\", binary_to_int(best), \"→ f(x) =\", fitness(best))\n",
        "\n",
        "genetic_algorithm()\n"
      ],
      "metadata": {
        "colab": {
          "base_uri": "https://localhost:8080/"
        },
        "id": "l2LK0Rm1U1Pa",
        "outputId": "109adb90-886c-40a5-d216-5276afa3cff1"
      },
      "execution_count": 19,
      "outputs": [
        {
          "output_type": "stream",
          "name": "stdout",
          "text": [
            "\n",
            "Generation 0: ['01010', '10010', '01111', '00110']\n",
            "Selected: ['10010', '01111']\n",
            "\n",
            "Generation 1: ['10010', '01111', '10011', '01011']\n",
            "Selected: ['10011', '10010']\n",
            "\n",
            "Generation 2: ['10011', '10010', '10000', '10010']\n",
            "Selected: ['10011', '10010']\n",
            "\n",
            "Generation 3: ['10011', '10010', '10011', '10010']\n",
            "Selected: ['10011', '10011']\n",
            "\n",
            "Generation 4: ['10011', '10011', '11011', '10001']\n",
            "Selected: ['11011', '10011']\n",
            "\n",
            "Generation 5: ['11011', '10011', '11010', '10111']\n",
            "Selected: ['11011', '11010']\n",
            "\n",
            "Generation 6: ['11011', '11010', '10010', '11001']\n",
            "Selected: ['11011', '11010']\n",
            "\n",
            "Generation 7: ['11011', '11010', '11011', '11001']\n",
            "Selected: ['11011', '11011']\n",
            "\n",
            "Generation 8: ['11011', '11011', '11111', '10011']\n",
            "Selected: ['11111', '11011']\n",
            "\n",
            "Generation 9: ['11111', '11011', '11010', '01111']\n",
            "Selected: ['11111', '11011']\n",
            "\n",
            "Best solution: 11111 → x = 31 → f(x) = 961\n"
          ]
        }
      ]
    },
    {
      "cell_type": "markdown",
      "source": [
        "### ✅ Case Study: Electricity Estimation using Genetic Algorithm"
      ],
      "metadata": {
        "id": "VhgwiUIRU474"
      }
    },
    {
      "cell_type": "code",
      "source": [
        "import random\n",
        "\n",
        "# Appliance data: (power in kW, [availability per hour])\n",
        "appliances = {\n",
        "    'AC':    (1.5, [1]*24),\n",
        "    'Heater':(2.0, [0]*6 + [1]*6 + [0]*12),\n",
        "    'Fridge':(0.8, [1]*24),\n",
        "    'Washer':(1.0, [0]*8 + [1]*4 + [0]*12),\n",
        "}\n",
        "\n",
        "# Tariff per hour (randomized for simplicity)\n",
        "tariff = [5 if 8<=i<=18 else 3 for i in range(24)]\n",
        "\n",
        "# Generate random schedule: each appliance has on/off for 24 hours\n",
        "def random_schedule():\n",
        "    return {appl: [random.randint(0, 1) if appliances[appl][1][h] else 0 for h in range(24)] for appl in appliances}\n",
        "\n",
        "# Fitness = total electricity cost\n",
        "def fitness(schedule):\n",
        "    total_cost = 0\n",
        "    for h in range(24):\n",
        "        hour_load = sum(schedule[a][h] * appliances[a][0] for a in appliances)\n",
        "        total_cost += hour_load * tariff[h]\n",
        "    return -total_cost  # Minimize cost → higher fitness = less cost\n",
        "\n",
        "# Selection\n",
        "def select(pop):\n",
        "    return sorted(pop, key=fitness, reverse=True)[:2]\n",
        "\n",
        "# Crossover: take half from each parent\n",
        "def crossover(p1, p2):\n",
        "    child = {}\n",
        "    for a in appliances:\n",
        "        child[a] = [random.choice([p1[a][i], p2[a][i]]) for i in range(24)]\n",
        "    return child\n",
        "\n",
        "# Mutation: flip one bit in a random appliance at random hour\n",
        "def mutate(schedule):\n",
        "    a = random.choice(list(appliances))\n",
        "    h = random.randint(0, 23)\n",
        "    if appliances[a][1][h] == 1:\n",
        "        schedule[a][h] ^= 1  # flip bit\n",
        "    return schedule\n",
        "\n",
        "# Main GA\n",
        "def ga():\n",
        "    population = [random_schedule() for _ in range(6)]\n",
        "\n",
        "    for gen in range(10):\n",
        "        selected = select(population)\n",
        "        child1 = mutate(crossover(*selected))\n",
        "        child2 = mutate(crossover(*selected))\n",
        "        population = selected + [child1, child2]\n",
        "\n",
        "    best = max(population, key=fitness)\n",
        "    print(\"\\nBest Schedule Found (Cost: ₹\", -fitness(best), \")\")\n",
        "    for a in best:\n",
        "        print(f\"{a:>7}: {''.join(str(x) for x in best[a])}\")\n",
        "\n",
        "ga()\n"
      ],
      "metadata": {
        "colab": {
          "base_uri": "https://localhost:8080/"
        },
        "id": "krISR6g5VCYF",
        "outputId": "51f0f617-5d71-455b-c8cc-d338e238fd30"
      },
      "execution_count": 20,
      "outputs": [
        {
          "output_type": "stream",
          "name": "stdout",
          "text": [
            "\n",
            "Best Schedule Found (Cost: ₹ 83.9 )\n",
            "     AC: 100101001000001110110000\n",
            " Heater: 000000010000000000000000\n",
            " Fridge: 010110100101000000000011\n",
            " Washer: 000000000000000000000000\n"
          ]
        }
      ]
    },
    {
      "cell_type": "markdown",
      "source": [
        "# Fuzzy Logic"
      ],
      "metadata": {
        "id": "WwMe_3HzVKM3"
      }
    },
    {
      "cell_type": "markdown",
      "source": [
        "### ✅ Fuzzy Logic – Basics"
      ],
      "metadata": {
        "id": "C1Bcs9lbVQHF"
      }
    },
    {
      "cell_type": "code",
      "source": [
        "def fuzzy_temp(temp):\n",
        "    cold = max(0, min(1, (20 - temp) / 10))\n",
        "    warm = max(0, min((temp - 15) / 10, (30 - temp) / 10))\n",
        "    hot = max(0, min(1, (temp - 25) / 10))\n",
        "    return cold, warm, hot\n",
        "\n",
        "def infer_fan_speed(cold, warm, hot):\n",
        "    # Rule base:\n",
        "    # IF Cold → Low (30), Warm → Medium (60), Hot → High (90)\n",
        "    low = cold * 30\n",
        "    medium = warm * 60\n",
        "    high = hot * 90\n",
        "\n",
        "    total_weight = cold + warm + hot\n",
        "    if total_weight == 0:\n",
        "        return 0  # default case\n",
        "    return (low + medium + high) / total_weight\n",
        "\n",
        "# Example usage\n",
        "temp = 27\n",
        "cold, warm, hot = fuzzy_temp(temp)\n",
        "speed = infer_fan_speed(cold, warm, hot)\n",
        "\n",
        "print(f\"Temp: {temp}°C → Cold={cold:.2f}, Warm={warm:.2f}, Hot={hot:.2f}\")\n",
        "print(f\"Fan Speed: {speed:.2f}%\")\n"
      ],
      "metadata": {
        "colab": {
          "base_uri": "https://localhost:8080/"
        },
        "id": "juFm-aTeVSmI",
        "outputId": "9319b95b-c7cd-4b2a-e687-71e3ee0d8b08"
      },
      "execution_count": 21,
      "outputs": [
        {
          "output_type": "stream",
          "name": "stdout",
          "text": [
            "Temp: 27°C → Cold=0.00, Warm=0.30, Hot=0.20\n",
            "Fan Speed: 72.00%\n"
          ]
        }
      ]
    },
    {
      "cell_type": "markdown",
      "source": [
        "### ✅ Case Study: Fuzzy Logic Controller for Peak Load Shaving"
      ],
      "metadata": {
        "id": "RXa8-2KyVX51"
      }
    },
    {
      "cell_type": "code",
      "source": [
        "def fuzzify_load(load):\n",
        "    low = max(0, min(1, (40 - load) / 20))\n",
        "    medium = max(0, min((load - 30)/20, (70 - load)/20))\n",
        "    high = max(0, min(1, (load - 60) / 20))\n",
        "    return low, medium, high\n",
        "\n",
        "def fuzzify_time(hour):\n",
        "    if hour < 8 or hour >= 22:\n",
        "        return 1, 0, 0  # Off-peak\n",
        "    elif hour < 17:\n",
        "        return 0, 1, 0  # Mid-peak\n",
        "    else:\n",
        "        return 0, 0, 1  # Peak\n",
        "\n",
        "def infer_action(load_vals, time_vals):\n",
        "    low, med, high = load_vals\n",
        "    off, mid, peak = time_vals\n",
        "\n",
        "    # Fuzzy rules:\n",
        "    # If Load is HIGH and Time is PEAK → Full Action\n",
        "    # If Load is MED and Time is MID → Moderate\n",
        "    # Else → No Action or light action\n",
        "\n",
        "    no_act = low * off\n",
        "    mod_act = med * mid\n",
        "    full_act = high * peak\n",
        "\n",
        "    total = no_act + mod_act + full_act\n",
        "    if total == 0:\n",
        "        return 0  # Default: no action\n",
        "\n",
        "    action = (no_act * 0 + mod_act * 50 + full_act * 100) / total\n",
        "    return action\n",
        "\n",
        "# Example\n",
        "load = 75  # in %\n",
        "hour = 18  # 6 PM → Peak time\n",
        "\n",
        "load_vals = fuzzify_load(load)\n",
        "time_vals = fuzzify_time(hour)\n",
        "\n",
        "action = infer_action(load_vals, time_vals)\n",
        "\n",
        "print(f\"Load: {load}%, Time: {hour}:00\")\n",
        "print(f\"Suggested Load Reduction: {action:.2f}%\")\n"
      ],
      "metadata": {
        "colab": {
          "base_uri": "https://localhost:8080/"
        },
        "id": "MMAF8x6eVZet",
        "outputId": "8fcc4b13-c106-4b78-d86b-8f8ed83a8680"
      },
      "execution_count": 22,
      "outputs": [
        {
          "output_type": "stream",
          "name": "stdout",
          "text": [
            "Load: 75%, Time: 18:00\n",
            "Suggested Load Reduction: 100.00%\n"
          ]
        }
      ]
    }
  ]
}
